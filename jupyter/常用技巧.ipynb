{
 "cells": [
  {
   "attachments": {},
   "cell_type": "markdown",
   "id": "a91e8849-5c73-4572-92eb-2b30e210bcf4",
   "metadata": {},
   "source": [
    "# 两数交换"
   ]
  },
  {
   "cell_type": "code",
   "execution_count": null,
   "id": "cbbb4f65-fc1a-4020-a795-d520e02d948b",
   "metadata": {
    "tags": []
   },
   "outputs": [],
   "source": [
    "a = 2\n",
    "b = 3\n",
    "a,b = b,a\n",
    "print (\"a=%d b=%d\"%(a,b)) # a=3 b=2"
   ]
  },
  {
   "attachments": {},
   "cell_type": "markdown",
   "id": "c7a8c56f-9329-47a9-a134-96719693d0e9",
   "metadata": {
    "tags": []
   },
   "source": [
    "# 序列解包\n",
    "\n",
    "list、tuple、range等数据序列，可以直接使用序列解包的方式，获取其数据值"
   ]
  },
  {
   "cell_type": "code",
   "execution_count": null,
   "id": "a19f933d-2536-4dfd-87f7-8f18d40dfb47",
   "metadata": {
    "tags": []
   },
   "outputs": [],
   "source": [
    "# list序列解包\n",
    "a = [1, 2, 3]\n",
    "b, c, d = a \n",
    "print(b,c,d)  # 1 2 3"
   ]
  },
  {
   "cell_type": "code",
   "execution_count": null,
   "id": "4827ad7b-fc9e-48c5-97fd-9f01a2fadf5b",
   "metadata": {
    "tags": []
   },
   "outputs": [],
   "source": [
    "# 除了list之外，tuple、range等都可以序列解包\n",
    "t = (5,8,)\n",
    "t1,t2 = t\n",
    "print(t1,t2)\n",
    "\n",
    "x, y, z = range(3)\n",
    "print(x,y,z) # 0 1 2"
   ]
  },
  {
   "cell_type": "code",
   "execution_count": null,
   "id": "cb90e50a-8eeb-44f6-9521-0837e740f82c",
   "metadata": {
    "tags": []
   },
   "outputs": [],
   "source": [
    "# 对字典使用时，默认是对字典“键”进行操作\n",
    "s = {'a':1, 'b':2, 'c':3}\n",
    "\n",
    "k1,k2,k3 = s # 等价于 k1,k2,k3 = s.keys()\n",
    "print(k1,k2,k3) # a b c\n",
    "\n",
    "# 如果需要对字典“值”进行操作，则需要使用字典的values()方法明确指定\n",
    "v1,v2,v3 = s.values()\n",
    "print(v1,v2,v3) # 1 2 3\n",
    "\n",
    "# 如果需要对“键:值”对进行操作，需要使用字典的items()方法说明\n",
    "i1,i2,i3 = s.items()\n",
    "print(i1,i2,i3) # ('a', 1) ('b', 2) ('c', 3)"
   ]
  },
  {
   "attachments": {},
   "cell_type": "markdown",
   "id": "b67ebc4d",
   "metadata": {},
   "source": [
    "# 解包运算符\n",
    "**目的**：合并两个字典\n",
    "\n",
    "一、先展示一波普通的写法，依次遍历两个字典，将其值赋予一个新的字典"
   ]
  },
  {
   "cell_type": "code",
   "execution_count": null,
   "id": "e4bbacc2-5ed5-44d3-82e1-23b33b806986",
   "metadata": {
    "tags": []
   },
   "outputs": [],
   "source": [
    "a = {\"root\":\"123\",\"ming\":\"3w.com\"}\n",
    "b = {\"lilei\":\"1111\",\"zhangsan\":\"123456\"}\n",
    "\n",
    "# 1.普通写法\n",
    "c = {}\n",
    "for i in a:\n",
    "    c[i]=a[i]\n",
    "\n",
    "for i in b:\n",
    "    c[i]=b[i]\n",
    "\n",
    "#   遍历输出\n",
    "for k ,v in c.items():\n",
    "    print(k,v)"
   ]
  },
  {
   "attachments": {},
   "cell_type": "markdown",
   "id": "c3ed0cf6-010c-406d-bd87-95eb746001a4",
   "metadata": {
    "tags": []
   },
   "source": [
    "二、使用解包符号，将字典拆包，然后使用数据构建一个新的字典"
   ]
  },
  {
   "cell_type": "code",
   "execution_count": null,
   "id": "b2f27de9-a31f-47e8-a4a8-a2399f132bd3",
   "metadata": {
    "tags": []
   },
   "outputs": [],
   "source": [
    "a = {\"root\":\"123\",\"ming\":\"3w.com\"}\n",
    "b = {\"lilei\":\"1111\",\"zhangsan\":\"123456\"}\n",
    "\n",
    "# 2.使用解包符号\n",
    "c ={**a,**b}\n",
    "# 相当于是将a和b中的内容直接填写到这里\n",
    "\n",
    "for k,v in c.items():\n",
    "    print(k,v)"
   ]
  },
  {
   "attachments": {},
   "cell_type": "markdown",
   "id": "fc5baee0-b657-4a27-9281-05924f473ba1",
   "metadata": {
    "tags": []
   },
   "source": [
    "# 列表解析式\n",
    "\n",
    "一、使用列表解析式获取（做出更改的）新的列表"
   ]
  },
  {
   "cell_type": "code",
   "execution_count": null,
   "id": "eb0da8c8-c444-420d-baf3-f64cf76798bd",
   "metadata": {
    "tags": []
   },
   "outputs": [],
   "source": [
    "# 把这些名字都改成大写\n",
    "fruit = ['apple','banana','orange','pear']"
   ]
  },
  {
   "cell_type": "code",
   "execution_count": null,
   "id": "6508f5c6-e5e5-45e9-bf04-ee30d94aa12a",
   "metadata": {
    "tags": []
   },
   "outputs": [],
   "source": [
    "# 1.普通方法\n",
    "for i in range(len(fruit)):\n",
    "    fruit[i]=fruit[i].upper()\n",
    "    \n",
    "print(fruit)"
   ]
  },
  {
   "cell_type": "code",
   "execution_count": null,
   "id": "22fa3506-f88a-4b0a-a853-6d4e75d31529",
   "metadata": {
    "tags": []
   },
   "outputs": [],
   "source": [
    "# 2.list表达式\n",
    "fruit = [x.upper() for x in fruit] # 这个写法其实是构造了一个新的List，并将其赋值给了fruit变量\n",
    "\n",
    "print(fruit)"
   ]
  },
  {
   "attachments": {},
   "cell_type": "markdown",
   "id": "0674db06-8aa9-4cd6-8821-1c1a906532bc",
   "metadata": {},
   "source": [
    "二、使用列表解析式筛选想要的元素"
   ]
  },
  {
   "cell_type": "code",
   "execution_count": null,
   "id": "4a8147d7-2e5e-467d-bc86-976440d69f97",
   "metadata": {
    "tags": []
   },
   "outputs": [],
   "source": [
    "# 筛选出以'a'开头的单词\n",
    "fruit = ['apple','banana','orange','pear']"
   ]
  },
  {
   "cell_type": "code",
   "execution_count": null,
   "id": "e93b0c29-3b9b-47dd-b4d9-fb1b0c67c566",
   "metadata": {
    "tags": []
   },
   "outputs": [],
   "source": [
    "# 1.普通写法\n",
    "fruit_a1 = []\n",
    "for i in fruit:\n",
    "    print(type(i))\n",
    "    if i.startswith('a'):\n",
    "        fruit.append(i)\n",
    "print(fruit_a1)"
   ]
  },
  {
   "cell_type": "code",
   "execution_count": null,
   "id": "aff9a5ad-c3e8-4d7e-a341-d9a9ba21401b",
   "metadata": {
    "tags": []
   },
   "outputs": [],
   "source": [
    "# 2.list表达式\n",
    "fruit_a2 = [x for x in fruit if x.startswith('a')]\n",
    "\n",
    "print(fruit_a2)\n",
    "\n",
    "# 可以分解成这样理解\n",
    "# x（新的列表由x构成）\n",
    "# x in fruit（x来自fruit列表）\n",
    "# if x.startswith('a')（x需要满足if语句中的条件）"
   ]
  },
  {
   "attachments": {},
   "cell_type": "markdown",
   "id": "ed53b651-80ba-47ce-bb26-3d4c61c7668c",
   "metadata": {},
   "source": [
    "# eval函数\n",
    "| 运算符 | 描述                                                         |\n",
    "| ------ | ------------------------------------------------------------ |\n",
    "| `+`    | 对象相加                                                     |\n",
    "| `-`    | 对象相减 或 得到负数                                         |\n",
    "| `*`    | 两数相乘 或 返回重复若干次的字符串                           |\n",
    "| `/`    | 除法                                                         |\n",
    "| `%`    | 取余                                                         |\n",
    "| `**`   | 返回x的y次幂（`x**y` = x的y次幂)                             |\n",
    "| `//`   | 取整除法（向下取接近除数的整数）  例如：`9//2 = 4`、`-9//2=-5` |\n",
    "\n",
    "- 数值的除法包含两个运算符：`/` 返回一个浮点数，`//` 返回一个整数。\n",
    "- 在混合计算时，Python会把整型转换成为浮点数。"
   ]
  },
  {
   "cell_type": "code",
   "execution_count": null,
   "id": "f9c1bdff-9dfe-4e92-8f8b-a68f1a1ec8a3",
   "metadata": {},
   "outputs": [],
   "source": [
    "exp = '2**2+5'\n",
    "eval(exp)  # 9"
   ]
  },
  {
   "attachments": {},
   "cell_type": "markdown",
   "id": "4656808f-7229-4ef0-931d-61514a4cdd56",
   "metadata": {
    "jp-MarkdownHeadingCollapsed": true,
    "tags": []
   },
   "source": [
    "# enumerate函数\n",
    "**常见用途**\n",
    "1. 用于遍历\n",
    "2. 每一次循环都会提供两个参数：一个元素内容、一个元素的索引值 "
   ]
  },
  {
   "attachments": {},
   "cell_type": "markdown",
   "id": "5903343c-aacc-4663-b830-46e08becf155",
   "metadata": {},
   "source": [
    "# yeild关键字\n",
    "1. `yield`和`return`类似，在函数中用来返回值给调用者\n",
    "2. 使用`return`的函数是没有状态的，一旦`return`了，函数就结束了。\n",
    "3. 使用`yield`的函数是有状态的，返回一个值后，还可以继续调用，直到所有`yield`都被用完。\n",
    "\n",
    "**目标**：输出0~10的斐波那契数列\n",
    "\n",
    "一、这是普通做法，先生成斐波那契数列的列表，后遍历输出"
   ]
  },
  {
   "cell_type": "code",
   "execution_count": null,
   "id": "9ddd6644-fb5a-4537-b006-3f462a42659b",
   "metadata": {},
   "outputs": [],
   "source": [
    "def fibonacci(n):\n",
    "    a = 0\n",
    "    b = 1\n",
    "    nums = []\n",
    "    for _ in range(n):\n",
    "        nums.append(a)\n",
    "        a,b = b,a\n",
    "    return nums\n",
    "\n",
    "for i in fibonacci(10):\n",
    "    print(i)"
   ]
  },
  {
   "attachments": {},
   "cell_type": "markdown",
   "id": "b98e1333-d390-440d-be8f-4805816baa89",
   "metadata": {},
   "source": [
    "二、使用 `yeild` 进行输出\n",
    "\n",
    "1. `yeild` 是做好一个输出一个\n",
    "2. 其输出完毕会继续执行函数\n",
    "3. 对一些非常耗时的操作：如下载文档并输出内容，可以边下载边输出，而不是下载完后再输出"
   ]
  },
  {
   "cell_type": "code",
   "execution_count": null,
   "id": "24945511-4242-49e6-a1c3-95c1a2b7fce0",
   "metadata": {},
   "outputs": [],
   "source": [
    "def fibonacci(n):\n",
    "    a=0\n",
    "    b=1\n",
    "    for _ in range(n):\n",
    "        yield a\n",
    "        a,b = b,a+b\n",
    "\n",
    "for i in fibonacci(10):\n",
    "    print(i)"
   ]
  },
  {
   "cell_type": "code",
   "execution_count": null,
   "id": "1a8e7875-d43e-435f-b1b9-912c5273c119",
   "metadata": {
    "tags": []
   },
   "outputs": [],
   "source": [
    "fruit = ['apple','banana','orange','pear']\n",
    "\n",
    "# 输出元素的内容 和 索引值\n",
    "for i,x in enumerate(fruit):\n",
    "    print(i,x)"
   ]
  },
  {
   "cell_type": "code",
   "execution_count": null,
   "id": "cf55f7ba-851e-43f2-9099-b672593f12b8",
   "metadata": {
    "tags": []
   },
   "outputs": [],
   "source": [
    "# 反向遍历\n",
    "\n",
    "fruit = ['apple','banana','orange','pear']\n",
    "\n",
    "for i,x in enumerate(reversed(fruit)):\n",
    "    print(i,x)"
   ]
  },
  {
   "cell_type": "code",
   "execution_count": null,
   "id": "63583538-2d39-411d-aa90-127cdfa1e271",
   "metadata": {
    "tags": []
   },
   "outputs": [],
   "source": [
    "# 按字典序排序\n",
    "\n",
    "fruit = ['apple','pear','orange','banana']\n",
    "\n",
    "for i,x in enumerate(sorted(fruit)):\n",
    "    print(i,x)"
   ]
  },
  {
   "attachments": {},
   "cell_type": "markdown",
   "id": "5458037e-052f-422f-95d0-54fa0dfad02e",
   "metadata": {},
   "source": [
    "# Python中的三元运算符"
   ]
  },
  {
   "attachments": {},
   "cell_type": "markdown",
   "id": "35c64fe2-d7a2-4d68-b463-f17c8c5fe2c5",
   "metadata": {},
   "source": [
    "**目的**：输入一个成绩（整数），判断其是否及格\n",
    "\n",
    "一、使用`if-else`结构"
   ]
  },
  {
   "cell_type": "code",
   "execution_count": null,
   "id": "74c6c007-bdc0-467d-b32c-f176b6c73b55",
   "metadata": {
    "tags": []
   },
   "outputs": [
    {
     "name": "stdout",
     "output_type": "stream",
     "text": [
      "pass\n"
     ]
    }
   ],
   "source": [
    "score = int(input(\"input score:\"))\n",
    "\n",
    "if score > 60:\n",
    "    s = \"pass\"\n",
    "else:\n",
    "    s = \"fail\"\n",
    "print(s)"
   ]
  },
  {
   "cell_type": "code",
   "execution_count": null,
   "id": "b80a8da6-a495-4f9d-b5f8-f3fbd527a3da",
   "metadata": {},
   "outputs": [],
   "source": []
  },
  {
   "attachments": {},
   "cell_type": "markdown",
   "id": "b9d7dd26-ef71-4d87-8461-2829a6145363",
   "metadata": {},
   "source": [
    "二、使用Python中的”三元运算符“"
   ]
  },
  {
   "cell_type": "code",
   "execution_count": null,
   "id": "0f88b759-63af-471d-8145-f143b132e4dc",
   "metadata": {
    "tags": []
   },
   "outputs": [
    {
     "name": "stdout",
     "output_type": "stream",
     "text": [
      "pass\n"
     ]
    }
   ],
   "source": [
    "score = int(input(\"input score:\"))\n",
    "\n",
    "# 可以直接简化为三元运算符\n",
    "s = \"pass\" if score > 60 else \"fail\" # if为真就使用前面的，为假就使用后面的\n",
    "print(s)"
   ]
  },
  {
   "cell_type": "code",
   "execution_count": null,
   "id": "93e57295-d0e2-412b-8249-377e3d5f760e",
   "metadata": {
    "tags": []
   },
   "outputs": [],
   "source": [
    "# list序列解包\n",
    "a = [1, 2, 3]\n",
    "b, c, d = a \n",
    "print(b,c,d)  # 1 2 3\n",
    "\n",
    "# 除了list之外，tuple、range等都可以序列解包\n",
    "x, y, z = range(3)\n",
    "print(x,y,z) # 0 1 2\n",
    "\n",
    "\n",
    "s = {'a':1, 'b':2, 'c':3}\n",
    "\n",
    "# 对字典使用时，默认是对字典“键”进行操作\n",
    "# k1,k2,k3 = s.keys()\n",
    "k1,k2,k3 = s\n",
    "print(k1,k2,k3) # a b c\n",
    "\n",
    "# 如果需要对“键:值”对进行操作，需要使用字典的items()方法说明\n",
    "i1,i2,i3 = s.items()\n",
    "print(i1,i2,i3) # ('a', 1) ('b', 2) ('c', 3)\n",
    "\n",
    "# 如果需要对字典“值”进行操作，则需要使用字典的values()方法明确指定\n",
    "v1,v2,v3 = s.values()\n",
    "print(v1,v2,v3) # 1 2 3"
   ]
  }
 ],
 "metadata": {
  "kernelspec": {
   "display_name": "Python 3 (ipykernel)",
   "language": "python",
   "name": "python3"
  },
  "language_info": {
   "codemirror_mode": {
    "name": "ipython",
    "version": 3
   },
   "file_extension": ".py",
   "mimetype": "text/x-python",
   "name": "python",
   "nbconvert_exporter": "python",
   "pygments_lexer": "ipython3",
   "version": "3.10.12"
  },
  "toc-autonumbering": true,
  "toc-showcode": false,
  "toc-showmarkdowntxt": false
 },
 "nbformat": 4,
 "nbformat_minor": 5
}
